{
 "cells": [
  {
   "cell_type": "markdown",
   "metadata": {
    "id": "QYGTtIVB2abJ"
   },
   "source": [
    "#NumPy Arrays and Functions\n",
    "\n",
    "###Demo 1: Matrix Product"
   ]
  },
  {
   "cell_type": "markdown",
   "metadata": {
    "id": "62bxbSZu2abR"
   },
   "source": [
    "In this demo, you will be shown how to implement Hill Cipher using matrix product."
   ]
  },
  {
   "cell_type": "markdown",
   "metadata": {
    "id": "pcYVwkYo2abU"
   },
   "source": [
    "### Question1: Perform Hill Cipher using matrix product"
   ]
  },
  {
   "cell_type": "markdown",
   "metadata": {
    "id": "e5_Wa1Yn2abW"
   },
   "source": [
    "#### Description about Hill Cipher"
   ]
  },
  {
   "cell_type": "markdown",
   "metadata": {
    "id": "xf3gFl9C2abW"
   },
   "source": [
    "'''\n",
    "Hill Cipher is a polygraphic substitution cipher based on linear algebra.\n",
    "Here the plain text is converted into encrypted form.\n",
    "Each letter of plain text is represented by a number modulo 26.\n",
    "Often the simple scheme A=0, B=1,....Z=25 is used\n",
    "To encrypt a message, each block of n letters is multiplied by an invertible n × n matrix, against modulus 26\n",
    "The matrix used for encryption is the cipher key, and it should be chosen randomly\n",
    "Lets us take plain text = edurek and cipher key = [11 9\n",
    "                                                     8 17]\n",
    "Plain text is converted into 2×1 matrix format i.e. [e d] [u r] [e k]\n",
    "Again plain text is converted into numbers i.e. [4 3] [20 11] [4 10]\n",
    "So, encryption of hill cipher = (each column of plain text)*(key)*mod 26\n",
    "'''"
   ]
  },
  {
   "cell_type": "markdown",
   "metadata": {
    "id": "wl_NSJ_Q2abp"
   },
   "source": [
    "### Step 1: Import the libraries"
   ]
  },
  {
   "cell_type": "code",
   "execution_count": 100,
   "metadata": {
    "id": "lYdni9j02abp"
   },
   "outputs": [],
   "source": [
    "import numpy as np"
   ]
  },
  {
   "cell_type": "code",
   "execution_count": 101,
   "metadata": {},
   "outputs": [],
   "source": [
    "#A   B   C   D   E   F   G   H   I   J   K   L   M   N   O   P   Q   R   S   T   U   V   W   X   Y   Z\n",
    "#0   1   2   3   4   5   6   7   8   9  10  11  12  13  14  15  16  17  18  19  20  21  22  23  24  25"
   ]
  },
  {
   "cell_type": "markdown",
   "metadata": {
    "id": "8CVhWus12abr"
   },
   "source": [
    "### Step 2: Create numpy array a as first column of plain text and array b as key"
   ]
  },
  {
   "cell_type": "code",
   "execution_count": 103,
   "metadata": {
    "id": "EBNSODVe2abs"
   },
   "outputs": [
    {
     "data": {
      "text/plain": [
       "array([[11,  9],\n",
       "       [ 8, 17]])"
      ]
     },
     "execution_count": 103,
     "metadata": {},
     "output_type": "execute_result"
    }
   ],
   "source": [
    "a = np.array([4,3]) #  e d pair\n",
    "b= np.array([[11,9],[8,17]]) #random values\n",
    "a\n",
    "b"
   ]
  },
  {
   "cell_type": "markdown",
   "metadata": {
    "id": "658DbIcq2abs"
   },
   "source": [
    "### Step 3: Perform matrix product between array a and b"
   ]
  },
  {
   "cell_type": "code",
   "execution_count": 104,
   "metadata": {
    "id": "Y7mK4mE92abt"
   },
   "outputs": [
    {
     "data": {
      "text/plain": [
       "array([68, 87])"
      ]
     },
     "execution_count": 104,
     "metadata": {},
     "output_type": "execute_result"
    }
   ],
   "source": [
    "c=np.dot(a,b)  #[(4*11 , 4*9)(3*8, 3*17)] [(44+24),(36+51)]\n",
    "c"
   ]
  },
  {
   "cell_type": "markdown",
   "metadata": {
    "id": "tpjAqdX92abt"
   },
   "source": [
    "### Step 4: Perform encryption of plain text using mod function"
   ]
  },
  {
   "cell_type": "code",
   "execution_count": 105,
   "metadata": {
    "id": "DNhd0Rk82abu",
    "outputId": "97a4b12d-f54b-4586-afb8-f15d4cc29cda"
   },
   "outputs": [
    {
     "name": "stdout",
     "output_type": "stream",
     "text": [
      "h= [16  9]\n"
     ]
    }
   ],
   "source": [
    "h = np.mod(c,26) #68%26, 87%26\n",
    "print(\"h=\",h)"
   ]
  },
  {
   "cell_type": "markdown",
   "metadata": {
    "id": "M68fF9Ju2abw"
   },
   "source": [
    "### Step 5: Create numpy array d of second column of plain text and array b as key"
   ]
  },
  {
   "cell_type": "code",
   "execution_count": 113,
   "metadata": {
    "id": "NisHVT032abx"
   },
   "outputs": [
    {
     "data": {
      "text/plain": [
       "array([20, 17])"
      ]
     },
     "execution_count": 113,
     "metadata": {},
     "output_type": "execute_result"
    }
   ],
   "source": [
    "d = np.array([20,17]) #u r \n",
    "d"
   ]
  },
  {
   "cell_type": "markdown",
   "metadata": {
    "id": "Ep7FpsbB2aby"
   },
   "source": [
    "### Step 6: Perform matrix product between array d and b"
   ]
  },
  {
   "cell_type": "code",
   "execution_count": 112,
   "metadata": {
    "id": "aZ2CWR4f2abz"
   },
   "outputs": [
    {
     "data": {
      "text/plain": [
       "array([356, 469])"
      ]
     },
     "execution_count": 112,
     "metadata": {},
     "output_type": "execute_result"
    }
   ],
   "source": [
    "f = np.dot(d,b)\n",
    "f"
   ]
  },
  {
   "cell_type": "markdown",
   "metadata": {
    "id": "tf_57sBF2ab0"
   },
   "source": [
    "### Step 7: Perform encyption of plain text using mod function"
   ]
  },
  {
   "cell_type": "code",
   "execution_count": 108,
   "metadata": {
    "id": "84ryhLl02ab0",
    "outputId": "f64db1c5-cf51-45cd-d39f-478a3780efdf"
   },
   "outputs": [
    {
     "name": "stdout",
     "output_type": "stream",
     "text": [
      "h1= [18  1]\n"
     ]
    }
   ],
   "source": [
    "h1=np.mod(f,26)\n",
    "print(\"h1=\",h1)"
   ]
  },
  {
   "cell_type": "markdown",
   "metadata": {
    "id": "x4Onth282ab1"
   },
   "source": [
    "### Step 8: Create a numpy array g of last column of plain text and array b as key"
   ]
  },
  {
   "cell_type": "code",
   "execution_count": 109,
   "metadata": {
    "id": "DS4-vw5B2ab2"
   },
   "outputs": [],
   "source": [
    "g = np.array([4,10]) #e,k"
   ]
  },
  {
   "cell_type": "markdown",
   "metadata": {
    "id": "5DBMth4E2ab3"
   },
   "source": [
    "### Step 9: Perform matrix product between array g and b"
   ]
  },
  {
   "cell_type": "code",
   "execution_count": 110,
   "metadata": {
    "id": "lsmPPDOZ2ab4"
   },
   "outputs": [
    {
     "data": {
      "text/plain": [
       "array([124, 206])"
      ]
     },
     "execution_count": 110,
     "metadata": {},
     "output_type": "execute_result"
    }
   ],
   "source": [
    "j =np.dot(g,b)\n",
    "j"
   ]
  },
  {
   "cell_type": "markdown",
   "metadata": {
    "id": "V51Y7PpK2ab5"
   },
   "source": [
    "### Step 10: Perform encyption of plain text using mod function"
   ]
  },
  {
   "cell_type": "code",
   "execution_count": 96,
   "metadata": {
    "id": "uRM7E5zR2ab5",
    "outputId": "3950685a-5209-479b-c624-37e7bdc2e753",
    "scrolled": true
   },
   "outputs": [
    {
     "name": "stdout",
     "output_type": "stream",
     "text": [
      "h2 [20 24]\n"
     ]
    }
   ],
   "source": [
    "h2=np.mod(j,26) \n",
    "print(\"h2\",h2)"
   ]
  },
  {
   "cell_type": "code",
   "execution_count": null,
   "metadata": {
    "id": "wrM25HMc2ab6"
   },
   "outputs": [],
   "source": [
    "Represent the matrix h, h1, h2 in alphabetic manner as explained above. So Plain Text in encypted format will be qjwduy"
   ]
  },
  {
   "cell_type": "markdown",
   "metadata": {
    "id": "ElPWBgID2ab6"
   },
   "source": [
    "#### Conclusion: This code demonstrates how to perform matrix product"
   ]
  }
 ],
 "metadata": {
  "colab": {
   "collapsed_sections": [],
   "name": "1752_day3_demo1 - Matrix Product.ipynb",
   "provenance": []
  },
  "kernelspec": {
   "display_name": "Python 3 (ipykernel)",
   "language": "python",
   "name": "python3"
  },
  "language_info": {
   "codemirror_mode": {
    "name": "ipython",
    "version": 3
   },
   "file_extension": ".py",
   "mimetype": "text/x-python",
   "name": "python",
   "nbconvert_exporter": "python",
   "pygments_lexer": "ipython3",
   "version": "3.12.1"
  }
 },
 "nbformat": 4,
 "nbformat_minor": 4
}
