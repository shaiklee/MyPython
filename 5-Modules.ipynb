{
 "cells": [
  {
   "cell_type": "code",
   "execution_count": 1,
   "id": "be72bbdd-76cd-43db-82df-380769a9bce8",
   "metadata": {},
   "outputs": [
    {
     "name": "stdout",
     "output_type": "stream",
     "text": [
      "['__doc__', '__loader__', '__name__', '__package__', '__spec__', 'acos', 'acosh', 'asin', 'asinh', 'atan', 'atan2', 'atanh', 'cbrt', 'ceil', 'comb', 'copysign', 'cos', 'cosh', 'degrees', 'dist', 'e', 'erf', 'erfc', 'exp', 'exp2', 'expm1', 'fabs', 'factorial', 'floor', 'fmod', 'frexp', 'fsum', 'gamma', 'gcd', 'hypot', 'inf', 'isclose', 'isfinite', 'isinf', 'isnan', 'isqrt', 'lcm', 'ldexp', 'lgamma', 'log', 'log10', 'log1p', 'log2', 'modf', 'nan', 'nextafter', 'perm', 'pi', 'pow', 'prod', 'radians', 'remainder', 'sin', 'sinh', 'sqrt', 'sumprod', 'tan', 'tanh', 'tau', 'trunc', 'ulp']\n"
     ]
    }
   ],
   "source": [
    "import math #math and sys are modules\n",
    "print(dir(math))"
   ]
  },
  {
   "cell_type": "code",
   "execution_count": 2,
   "id": "cfaa925e-189a-4d45-9070-f0038fd5de5e",
   "metadata": {},
   "outputs": [
    {
     "name": "stdout",
     "output_type": "stream",
     "text": [
      "['C:\\\\Users\\\\sklee\\\\AppData\\\\Roaming\\\\Python\\\\Python312\\\\site-packages\\\\ipykernel_launcher.py', '--f=c:\\\\Users\\\\sklee\\\\AppData\\\\Roaming\\\\jupyter\\\\runtime\\\\kernel-v2-1536MbkD2ml17i9M.json']\n"
     ]
    }
   ],
   "source": [
    "import sys\n",
    "print(sys.argv)"
   ]
  },
  {
   "cell_type": "code",
   "execution_count": 3,
   "id": "fac60deb-864f-4096-ba27-0cc22c4e61db",
   "metadata": {},
   "outputs": [
    {
     "name": "stdout",
     "output_type": "stream",
     "text": [
      "False\n"
     ]
    }
   ],
   "source": [
    "print(not sys)"
   ]
  },
  {
   "cell_type": "code",
   "execution_count": 4,
   "id": "c1e6fa84-163a-4412-87a2-1652d3555c55",
   "metadata": {},
   "outputs": [
    {
     "name": "stdout",
     "output_type": "stream",
     "text": [
      "3.12\n"
     ]
    }
   ],
   "source": [
    "print(sys.winver)"
   ]
  },
  {
   "cell_type": "code",
   "execution_count": 5,
   "id": "58cb2275-00ed-49bf-a8e6-f7cd311ebdf1",
   "metadata": {},
   "outputs": [
    {
     "name": "stdout",
     "output_type": "stream",
     "text": [
      "sys.flags(debug=0, inspect=0, interactive=0, optimize=0, dont_write_bytecode=0, no_user_site=0, no_site=0, ignore_environment=0, verbose=0, bytes_warning=0, quiet=0, hash_randomization=1, isolated=0, dev_mode=False, utf8_mode=0, warn_default_encoding=0, safe_path=False, int_max_str_digits=4300)\n"
     ]
    }
   ],
   "source": [
    "print(sys.flags)"
   ]
  },
  {
   "cell_type": "code",
   "execution_count": 18,
   "id": "8fac2c43-335d-4ca8-85bc-d3bfc8958d18",
   "metadata": {},
   "outputs": [
    {
     "name": "stdout",
     "output_type": "stream",
     "text": [
      "C:\\ProgramData\\miniconda3\n"
     ]
    }
   ],
   "source": [
    "print(sys.prefix)"
   ]
  },
  {
   "cell_type": "code",
   "execution_count": 19,
   "id": "fc4c4838-c978-4bcf-b776-0ec2a2ada64e",
   "metadata": {},
   "outputs": [
    {
     "data": {
      "text/plain": [
       "'3.11.5 | packaged by Anaconda, Inc. | (main, Sep 11 2023, 13:26:23) [MSC v.1916 64 bit (AMD64)]'"
      ]
     },
     "execution_count": 19,
     "metadata": {},
     "output_type": "execute_result"
    }
   ],
   "source": [
    "sys.version"
   ]
  },
  {
   "cell_type": "code",
   "execution_count": 7,
   "id": "8085bad6-53e9-434a-ac6e-445b220c2c48",
   "metadata": {},
   "outputs": [],
   "source": [
    "import os"
   ]
  },
  {
   "cell_type": "code",
   "execution_count": 8,
   "id": "bc67b403-5c29-4c23-881c-127ac5acb53c",
   "metadata": {},
   "outputs": [
    {
     "name": "stdout",
     "output_type": "stream",
     "text": [
      "c:\\Users\\sklee\\OneDrive\\Documents\\Jupyter notebook-python files\n"
     ]
    }
   ],
   "source": [
    "print(os.getcwd())"
   ]
  },
  {
   "cell_type": "code",
   "execution_count": 9,
   "id": "c36d9ba8-7e10-4b99-a719-951ccc191d8a",
   "metadata": {},
   "outputs": [
    {
     "name": "stdout",
     "output_type": "stream",
     "text": [
      "nt\n"
     ]
    }
   ],
   "source": [
    "print(os.name)"
   ]
  },
  {
   "cell_type": "code",
   "execution_count": 10,
   "id": "3d93b34c-a383-4d7c-8e61-de991385fb10",
   "metadata": {},
   "outputs": [
    {
     "name": "stdout",
     "output_type": "stream",
     "text": [
      "environ({'AGSDESKTOPJAVA': 'C:\\\\Program Files (x86)\\\\ArcGIS\\\\Desktop10.8\\\\', 'ALLUSERSPROFILE': 'C:\\\\ProgramData', 'APPDATA': 'C:\\\\Users\\\\sklee\\\\AppData\\\\Roaming', 'CHROME_CRASHPAD_PIPE_NAME': '\\\\\\\\.\\\\pipe\\\\crashpad_27728_CSIBTBEKZHCOCJRU', 'COMMONPROGRAMFILES': 'C:\\\\Program Files\\\\Common Files', 'COMMONPROGRAMFILES(X86)': 'C:\\\\Program Files (x86)\\\\Common Files', 'COMMONPROGRAMW6432': 'C:\\\\Program Files\\\\Common Files', 'COMPUTERNAME': 'LEEYAZ', 'COMSPEC': 'C:\\\\windows\\\\system32\\\\cmd.exe', 'DRIVERDATA': 'C:\\\\Windows\\\\System32\\\\Drivers\\\\DriverData', 'EFC_27196': '1', 'ELECTRON_RUN_AS_NODE': '1', 'FPS_BROWSER_APP_PROFILE_STRING': 'Internet Explorer', 'FPS_BROWSER_USER_PROFILE_STRING': 'Default', 'HOMEDRIVE': 'C:', 'HOMEPATH': '\\\\Users\\\\sklee', 'JPY_INTERRUPT_EVENT': '1508', 'LOCALAPPDATA': 'C:\\\\Users\\\\sklee\\\\AppData\\\\Local', 'LOGONSERVER': '\\\\\\\\LEEYAZ', 'NUMBER_OF_PROCESSORS': '12', 'ONEDRIVE': 'C:\\\\Users\\\\sklee\\\\OneDrive', 'ONEDRIVECONSUMER': 'C:\\\\Users\\\\sklee\\\\OneDrive', 'ONLINESERVICES': 'Online Services', 'ORIGINAL_XDG_CURRENT_DESKTOP': 'undefined', 'OS': 'Windows_NT', 'PATH': 'c:\\\\Program Files\\\\Python312;c:\\\\Users\\\\sklee\\\\AppData\\\\Roaming\\\\Python\\\\Python312\\\\Scripts;C:\\\\Program Files\\\\Python312\\\\Scripts\\\\;C:\\\\Program Files\\\\Python312\\\\;C:\\\\windows\\\\system32;C:\\\\windows;C:\\\\windows\\\\System32\\\\Wbem;C:\\\\windows\\\\System32\\\\WindowsPowerShell\\\\v1.0\\\\;C:\\\\windows\\\\System32\\\\OpenSSH\\\\;C:\\\\Program Files (x86)\\\\Microsoft SQL Server\\\\160\\\\Tools\\\\Binn\\\\;C:\\\\Program Files\\\\Microsoft SQL Server\\\\160\\\\Tools\\\\Binn\\\\;C:\\\\Program Files\\\\Microsoft SQL Server\\\\Client SDK\\\\ODBC\\\\170\\\\Tools\\\\Binn\\\\;C:\\\\Program Files\\\\Microsoft SQL Server\\\\160\\\\DTS\\\\Binn\\\\;C:\\\\Program Files (x86)\\\\Microsoft SQL Server\\\\160\\\\DTS\\\\Binn\\\\;C:\\\\Program Files\\\\Azure Data Studio\\\\bin;C:\\\\MinGW\\\\bin;C:\\\\MinGW;C:\\\\Program Files\\\\Python312\\\\Lib\\\\site-packages\\\\pip\\\\_vendor\\\\rich\\\\__pycache__;Location: C:\\\\Users\\\\sklee\\\\AppData\\\\Roaming\\\\Python\\\\Python312\\\\site-packages;;C:\\\\Program Files\\\\HP\\\\HP One Agent;C:\\\\Program Files\\\\dotnet\\\\;C:\\\\Users\\\\sklee\\\\AppData\\\\Local\\\\Microsoft\\\\WindowsApps;C:\\\\Program Files\\\\Azure Data Studio\\\\bin;C:\\\\Program Files\\\\Azure Data Studio\\\\bin;C:\\\\Users\\\\sklee\\\\AppData\\\\Local\\\\Programs\\\\Microsoft VS Code\\\\bin;C:\\\\Program Files\\\\Python312;C:\\\\Program Files\\\\Python312\\\\Lib\\\\site-packages\\\\pip\\\\_vendor\\\\rich\\\\__pycache__;;C:\\\\Program Files\\\\esa-snap\\\\bin;C:\\\\Program Files\\\\Python312\\\\Scripts\\\\;C:\\\\Program Files\\\\Python312\\\\;C:\\\\windows\\\\system32;C:\\\\windows;C:\\\\windows\\\\System32\\\\Wbem;C:\\\\windows\\\\System32\\\\WindowsPowerShell\\\\v1.0\\\\;C:\\\\windows\\\\System32\\\\OpenSSH\\\\;C:\\\\Program Files (x86)\\\\Microsoft SQL Server\\\\160\\\\Tools\\\\Binn\\\\;C:\\\\Program Files\\\\Microsoft SQL Server\\\\160\\\\Tools\\\\Binn\\\\;C:\\\\Program Files\\\\Microsoft SQL Server\\\\Client SDK\\\\ODBC\\\\170\\\\Tools\\\\Binn\\\\;C:\\\\Program Files\\\\Microsoft SQL Server\\\\160\\\\DTS\\\\Binn\\\\;C:\\\\Program Files (x86)\\\\Microsoft SQL Server\\\\160\\\\DTS\\\\Binn\\\\;C:\\\\Program Files\\\\Azure Data Studio\\\\bin;C:\\\\MinGW\\\\bin;C:\\\\MinGW;C:\\\\Program Files\\\\Python312\\\\Lib\\\\site-packages\\\\pip\\\\_vendor\\\\rich\\\\__pycache__;Location: C:\\\\Users\\\\sklee\\\\AppData\\\\Roaming\\\\Python\\\\Python312\\\\site-packages;;C:\\\\Program Files\\\\HP\\\\HP One Agent;C:\\\\Program Files\\\\dotnet\\\\;C:\\\\Users\\\\sklee\\\\AppData\\\\Local\\\\Microsoft\\\\WindowsApps;C:\\\\Program Files\\\\Azure Data Studio\\\\bin;C:\\\\Program Files\\\\Azure Data Studio\\\\bin;C:\\\\Users\\\\sklee\\\\AppData\\\\Local\\\\Programs\\\\Microsoft VS Code\\\\bin;C:\\\\Program Files\\\\Python312;C:\\\\Program Files\\\\Python312\\\\Lib\\\\site-packages\\\\pip\\\\_vendor\\\\rich\\\\__pycache__;;C:\\\\Program Files\\\\esa-snap\\\\bin', 'PATHEXT': '.COM;.EXE;.BAT;.CMD;.VBS;.VBE;.JS;.JSE;.WSF;.WSH;.MSC;.PY;.PYW', 'PLATFORMCODE': 'KV', 'PROCESSOR_ARCHITECTURE': 'AMD64', 'PROCESSOR_IDENTIFIER': 'Intel64 Family 6 Model 186 Stepping 3, GenuineIntel', 'PROCESSOR_LEVEL': '6', 'PROCESSOR_REVISION': 'ba03', 'PROGRAMDATA': 'C:\\\\ProgramData', 'PROGRAMFILES': 'C:\\\\Program Files', 'PROGRAMFILES(X86)': 'C:\\\\Program Files (x86)', 'PROGRAMW6432': 'C:\\\\Program Files', 'PSMODULEPATH': 'C:\\\\Program Files\\\\WindowsPowerShell\\\\Modules;C:\\\\windows\\\\system32\\\\WindowsPowerShell\\\\v1.0\\\\Modules;C:\\\\Program Files (x86)\\\\Microsoft SQL Server\\\\160\\\\Tools\\\\PowerShell\\\\Modules\\\\', 'PUBLIC': 'C:\\\\Users\\\\Public', 'PYDEVD_IPYTHON_COMPATIBLE_DEBUGGING': '1', 'PYTHONIOENCODING': 'utf-8', 'PYTHONUNBUFFERED': '1', 'PYTHON_FROZEN_MODULES': 'on', 'REGIONCODE': 'APJ', 'SESSIONNAME': 'Console', 'SYSTEMDRIVE': 'C:', 'SYSTEMROOT': 'C:\\\\windows', 'TEMP': 'C:\\\\Users\\\\sklee\\\\AppData\\\\Local\\\\Temp', 'TMP': 'C:\\\\Users\\\\sklee\\\\AppData\\\\Local\\\\Temp', 'USERDOMAIN': 'LEEYAZ', 'USERDOMAIN_ROAMINGPROFILE': 'LEEYAZ', 'USERNAME': 'sklee', 'USERPROFILE': 'C:\\\\Users\\\\sklee', 'VSCODE_AMD_ENTRYPOINT': 'vs/workbench/api/node/extensionHostProcess', 'VSCODE_CODE_CACHE_PATH': 'C:\\\\Users\\\\sklee\\\\AppData\\\\Roaming\\\\Code\\\\CachedData\\\\5437499feb04f7a586f677b155b039bc2b3669eb', 'VSCODE_CRASH_REPORTER_PROCESS_TYPE': 'extensionHost', 'VSCODE_CWD': 'C:\\\\Users\\\\sklee\\\\OneDrive\\\\Documents\\\\Jupyter notebook-python files', 'VSCODE_HANDLES_UNCAUGHT_ERRORS': 'true', 'VSCODE_IPC_HOOK': '\\\\\\\\.\\\\pipe\\\\a431659c-1.90.2-main-sock', 'VSCODE_NLS_CONFIG': '{\"locale\":\"en-us\",\"osLocale\":\"en-in\",\"availableLanguages\":{},\"_languagePackSupport\":true}', 'VSCODE_PID': '27728', 'WINDIR': 'C:\\\\windows', 'ZES_ENABLE_SYSMAN': '1', 'PYDEVD_USE_FRAME_EVAL': 'NO', 'TERM': 'xterm-color', 'CLICOLOR': '1', 'FORCE_COLOR': '1', 'CLICOLOR_FORCE': '1', 'PAGER': 'cat', 'GIT_PAGER': 'cat', 'MPLBACKEND': 'module://matplotlib_inline.backend_inline'})\n"
     ]
    }
   ],
   "source": [
    "print(os.environ)"
   ]
  },
  {
   "cell_type": "code",
   "execution_count": 11,
   "id": "5f78c547-2a05-4406-bfe9-59580e191ef8",
   "metadata": {},
   "outputs": [
    {
     "name": "stdout",
     "output_type": "stream",
     "text": [
      "sklee\n"
     ]
    }
   ],
   "source": [
    "print(os.getlogin())"
   ]
  },
  {
   "cell_type": "code",
   "execution_count": 12,
   "id": "74777104-ad16-4f98-89a2-be392866ead6",
   "metadata": {},
   "outputs": [
    {
     "name": "stdout",
     "output_type": "stream",
     "text": [
      "1536\n"
     ]
    }
   ],
   "source": [
    "print(os.getppid())"
   ]
  },
  {
   "cell_type": "code",
   "execution_count": 13,
   "id": "397b1f63-ea07-4eac-98cd-7265c6af6a68",
   "metadata": {},
   "outputs": [],
   "source": [
    "#Math module\n",
    "import math"
   ]
  },
  {
   "cell_type": "code",
   "execution_count": 14,
   "id": "0652605d-e025-4b2f-a90e-cb53688306cf",
   "metadata": {},
   "outputs": [
    {
     "name": "stdout",
     "output_type": "stream",
     "text": [
      "11\n"
     ]
    }
   ],
   "source": [
    "print(math.ceil(10.098))"
   ]
  },
  {
   "cell_type": "code",
   "execution_count": 15,
   "id": "a0d061c7-dd90-406a-8d09-93455a2849a0",
   "metadata": {},
   "outputs": [
    {
     "name": "stdout",
     "output_type": "stream",
     "text": [
      "-10.0\n"
     ]
    }
   ],
   "source": [
    "print(math.copysign(10,-1))"
   ]
  },
  {
   "cell_type": "code",
   "execution_count": 16,
   "id": "a9e2f740-3cac-4ad4-9080-c66b8ea7b903",
   "metadata": {},
   "outputs": [
    {
     "name": "stdout",
     "output_type": "stream",
     "text": [
      "19.7\n"
     ]
    }
   ],
   "source": [
    "print(math.fabs(-19.7))"
   ]
  },
  {
   "cell_type": "code",
   "execution_count": 17,
   "id": "0baaec87-a027-4797-a80b-be4d0576d33b",
   "metadata": {},
   "outputs": [],
   "source": [
    "#datetime module\n",
    "import datetime"
   ]
  },
  {
   "cell_type": "code",
   "execution_count": 18,
   "id": "e74e4b90-a4bc-4560-a793-07f8d9258812",
   "metadata": {},
   "outputs": [
    {
     "name": "stdout",
     "output_type": "stream",
     "text": [
      "2024-07-04 09:33:56.947798\n"
     ]
    }
   ],
   "source": [
    "print(datetime.datetime.today())"
   ]
  },
  {
   "cell_type": "code",
   "execution_count": 19,
   "id": "d24ed288-ad5f-41d2-afc1-d94338b3cfb4",
   "metadata": {},
   "outputs": [
    {
     "name": "stdout",
     "output_type": "stream",
     "text": [
      "9999\n"
     ]
    }
   ],
   "source": [
    "print(datetime.MAXYEAR)"
   ]
  },
  {
   "cell_type": "code",
   "execution_count": 10,
   "id": "3765c9dc-5439-42ca-a909-1cd7bb88da77",
   "metadata": {},
   "outputs": [
    {
     "name": "stdout",
     "output_type": "stream",
     "text": [
      "1\n"
     ]
    }
   ],
   "source": [
    "print(datetime.MINYEAR)"
   ]
  },
  {
   "cell_type": "code",
   "execution_count": 20,
   "id": "fe575b43-5c37-4eb2-8745-059e8ed0b3d7",
   "metadata": {},
   "outputs": [
    {
     "name": "stdout",
     "output_type": "stream",
     "text": [
      "<class 'datetime.time'>\n"
     ]
    }
   ],
   "source": [
    "print(datetime.time)"
   ]
  },
  {
   "cell_type": "code",
   "execution_count": 21,
   "id": "6febe809-36d0-496b-852e-bfac5e8a24aa",
   "metadata": {},
   "outputs": [
    {
     "name": "stdout",
     "output_type": "stream",
     "text": [
      "<class 'datetime.timezone'>\n"
     ]
    }
   ],
   "source": [
    "print(datetime.timezone)"
   ]
  },
  {
   "cell_type": "code",
   "execution_count": 23,
   "id": "ef63eecb-f4f0-4ffb-87c8-33b76ba4eac2",
   "metadata": {},
   "outputs": [
    {
     "name": "stdout",
     "output_type": "stream",
     "text": [
      "8739 days, 11:26:21.100670\n"
     ]
    }
   ],
   "source": [
    "now=datetime.datetime.today()  #current date in YYYY-MM-DD HH:MM:SS\n",
    "#method takes arguement as : datetime(year,month,day[,hour [,minute, [, second [, microsecond [, tzinfo]]]]])\n",
    "other=datetime.datetime(2000,7,30,22,10)\n",
    "print(now-other)\n",
    "#returns value of type timedelta which is difference between two datetime types.\n"
   ]
  },
  {
   "cell_type": "code",
   "execution_count": 24,
   "id": "4888faf0-9f22-4733-8644-825680a89cc2",
   "metadata": {},
   "outputs": [],
   "source": [
    "#random Module\n",
    "import random"
   ]
  },
  {
   "cell_type": "code",
   "execution_count": 62,
   "id": "1f933377-eaef-49a5-83e3-3f09983ec24a",
   "metadata": {},
   "outputs": [
    {
     "name": "stdout",
     "output_type": "stream",
     "text": [
      "78\n"
     ]
    }
   ],
   "source": [
    "num=random.randrange(100) #generates a random integer within given range\n",
    "print(num)"
   ]
  },
  {
   "cell_type": "code",
   "execution_count": 69,
   "id": "96844fec-d6f9-43f6-9b01-2c1f564abd2a",
   "metadata": {},
   "outputs": [
    {
     "name": "stdout",
     "output_type": "stream",
     "text": [
      "30\n"
     ]
    }
   ],
   "source": [
    "ran=random.randrange(0,100,30) #returns a randomly selected element from range\n",
    "print(ran)"
   ]
  },
  {
   "cell_type": "code",
   "execution_count": 78,
   "id": "7e401738-c9fa-4b7e-a3ff-b23b58a20626",
   "metadata": {},
   "outputs": [
    {
     "name": "stdout",
     "output_type": "stream",
     "text": [
      "30\n"
     ]
    }
   ],
   "source": [
    "inte=random.randint(0,30) #returns a random integer N such that a<=N<=b\n",
    "print(inte)"
   ]
  },
  {
   "cell_type": "code",
   "execution_count": 22,
   "id": "efa6c512-60ee-4bee-a2ad-e72ebe20e856",
   "metadata": {},
   "outputs": [
    {
     "name": "stdout",
     "output_type": "stream",
     "text": [
      "<bound method Random.getstate of <random.Random object at 0x000001C166D374F0>>\n"
     ]
    }
   ],
   "source": [
    "print(random.getstate) #returns an object which captures the current internal state of the generator"
   ]
  },
  {
   "cell_type": "code",
   "execution_count": 23,
   "id": "c175b59f-2d4c-49a3-9ffb-0aae7fe8f883",
   "metadata": {},
   "outputs": [
    {
     "name": "stdout",
     "output_type": "stream",
     "text": [
      "4.358020433512328\n"
     ]
    }
   ],
   "source": [
    "print(random.uniform(6,2)) #return a random floating point number N such that a<=N<=b for a<=b and b<=N<=a  for b<a"
   ]
  },
  {
   "cell_type": "markdown",
   "id": "313444ff-a73a-4418-80ff-4be5d512dae2",
   "metadata": {},
   "source": [
    "Classes and Objects"
   ]
  },
  {
   "cell_type": "code",
   "execution_count": 79,
   "id": "d8c6e11c-65fd-494c-a655-bc216e88e871",
   "metadata": {},
   "outputs": [
    {
     "name": "stdout",
     "output_type": "stream",
     "text": [
      "<__main__.number object at 0x00000192A6379EE0>\n"
     ]
    }
   ],
   "source": [
    "class number():\n",
    "    pass\n",
    "x=number()\n",
    "print(x)"
   ]
  },
  {
   "cell_type": "code",
   "execution_count": 81,
   "id": "4b9683ff-0c01-4ba4-a68b-3484186f1763",
   "metadata": {},
   "outputs": [
    {
     "name": "stdout",
     "output_type": "stream",
     "text": [
      "<__main__.Employee object at 0x00000192A62387D0>\n",
      "<__main__.Employee object at 0x00000192A623BA40>\n"
     ]
    }
   ],
   "source": [
    "#example-2\n",
    "class Employee():\n",
    "    pass\n",
    "#object\n",
    "employee1= Employee()\n",
    "employee2=Employee()\n",
    "print(employee1)\n",
    "print(employee2)"
   ]
  },
  {
   "cell_type": "code",
   "execution_count": 82,
   "id": "7478fd1c-0a54-4479-8c90-73afb26ac844",
   "metadata": {},
   "outputs": [
    {
     "name": "stdout",
     "output_type": "stream",
     "text": [
      "Matt\n",
      "25000\n",
      "Anjali\n",
      "35000\n",
      "<__main__.Employee object at 0x00000192A6392A80>\n"
     ]
    }
   ],
   "source": [
    "employee1=Employee()\n",
    "employee1.name=\"Matt\"\n",
    "employee1.income=25000\n",
    "employee1.performance=\"good\"\n",
    "print(employee1.name)\n",
    "print(employee1.income)\n",
    "#values for employee2\n",
    "employee2.name=\"Anjali\"\n",
    "employee2.income=35000\n",
    "print(employee2.name)\n",
    "print(employee2.income)\n",
    "print(employee1)"
   ]
  }
 ],
 "metadata": {
  "kernelspec": {
   "display_name": "Python 3 (ipykernel)",
   "language": "python",
   "name": "python3"
  },
  "language_info": {
   "codemirror_mode": {
    "name": "ipython",
    "version": 3
   },
   "file_extension": ".py",
   "mimetype": "text/x-python",
   "name": "python",
   "nbconvert_exporter": "python",
   "pygments_lexer": "ipython3",
   "version": "3.12.1"
  }
 },
 "nbformat": 4,
 "nbformat_minor": 5
}
